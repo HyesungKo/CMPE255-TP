{
  "nbformat": 4,
  "nbformat_minor": 0,
  "metadata": {
    "colab": {
      "name": "cmpe255-detection.ipynb",
      "provenance": [],
      "collapsed_sections": [],
      "machine_shape": "hm"
    },
    "kernelspec": {
      "name": "python3",
      "display_name": "Python 3"
    },
    "language_info": {
      "name": "python"
    }
  },
  "cells": [
    {
      "cell_type": "code",
      "metadata": {
        "colab": {
          "base_uri": "https://localhost:8080/"
        },
        "id": "yNZXi-jKCIP7",
        "outputId": "79e13262-8fd6-492b-ed16-d153e3ddc26b"
      },
      "source": [
        "from google.colab import drive\n",
        "drive.mount('/content/drive')"
      ],
      "execution_count": 4,
      "outputs": [
        {
          "output_type": "stream",
          "text": [
            "Mounted at /content/drive\n"
          ],
          "name": "stdout"
        }
      ]
    },
    {
      "cell_type": "code",
      "metadata": {
        "colab": {
          "base_uri": "https://localhost:8080/"
        },
        "id": "g0I9HxOEiwdn",
        "outputId": "7bb16456-af6a-424b-f558-3206b9eeb18b"
      },
      "source": [
        "!pip install tfds-nightly"
      ],
      "execution_count": null,
      "outputs": [
        {
          "output_type": "stream",
          "text": [
            "Collecting tfds-nightly\n",
            "\u001b[?25l  Downloading https://files.pythonhosted.org/packages/24/a5/c07b145c48dbe84b388dc2ce8ba1210b626e2fcf008755d738192bc6156f/tfds_nightly-4.3.0.dev202105110107-py3-none-any.whl (3.9MB)\n",
            "\u001b[K     |████████████████████████████████| 3.9MB 7.6MB/s \n",
            "\u001b[?25hRequirement already satisfied: importlib-resources; python_version < \"3.9\" in /usr/local/lib/python3.7/dist-packages (from tfds-nightly) (5.1.2)\n",
            "Requirement already satisfied: absl-py in /usr/local/lib/python3.7/dist-packages (from tfds-nightly) (0.12.0)\n",
            "Requirement already satisfied: dill in /usr/local/lib/python3.7/dist-packages (from tfds-nightly) (0.3.3)\n",
            "Requirement already satisfied: termcolor in /usr/local/lib/python3.7/dist-packages (from tfds-nightly) (1.1.0)\n",
            "Requirement already satisfied: future in /usr/local/lib/python3.7/dist-packages (from tfds-nightly) (0.16.0)\n",
            "Requirement already satisfied: promise in /usr/local/lib/python3.7/dist-packages (from tfds-nightly) (2.3)\n",
            "Requirement already satisfied: typing-extensions; python_version < \"3.8\" in /usr/local/lib/python3.7/dist-packages (from tfds-nightly) (3.7.4.3)\n",
            "Requirement already satisfied: tqdm in /usr/local/lib/python3.7/dist-packages (from tfds-nightly) (4.41.1)\n",
            "Requirement already satisfied: numpy in /usr/local/lib/python3.7/dist-packages (from tfds-nightly) (1.19.5)\n",
            "Requirement already satisfied: protobuf>=3.12.2 in /usr/local/lib/python3.7/dist-packages (from tfds-nightly) (3.12.4)\n",
            "Requirement already satisfied: requests>=2.19.0 in /usr/local/lib/python3.7/dist-packages (from tfds-nightly) (2.23.0)\n",
            "Requirement already satisfied: attrs>=18.1.0 in /usr/local/lib/python3.7/dist-packages (from tfds-nightly) (20.3.0)\n",
            "Requirement already satisfied: tensorflow-metadata in /usr/local/lib/python3.7/dist-packages (from tfds-nightly) (0.29.0)\n",
            "Requirement already satisfied: six in /usr/local/lib/python3.7/dist-packages (from tfds-nightly) (1.15.0)\n",
            "Requirement already satisfied: zipp>=0.4; python_version < \"3.8\" in /usr/local/lib/python3.7/dist-packages (from importlib-resources; python_version < \"3.9\"->tfds-nightly) (3.4.1)\n",
            "Requirement already satisfied: setuptools in /usr/local/lib/python3.7/dist-packages (from protobuf>=3.12.2->tfds-nightly) (56.1.0)\n",
            "Requirement already satisfied: urllib3!=1.25.0,!=1.25.1,<1.26,>=1.21.1 in /usr/local/lib/python3.7/dist-packages (from requests>=2.19.0->tfds-nightly) (1.24.3)\n",
            "Requirement already satisfied: chardet<4,>=3.0.2 in /usr/local/lib/python3.7/dist-packages (from requests>=2.19.0->tfds-nightly) (3.0.4)\n",
            "Requirement already satisfied: certifi>=2017.4.17 in /usr/local/lib/python3.7/dist-packages (from requests>=2.19.0->tfds-nightly) (2020.12.5)\n",
            "Requirement already satisfied: idna<3,>=2.5 in /usr/local/lib/python3.7/dist-packages (from requests>=2.19.0->tfds-nightly) (2.10)\n",
            "Requirement already satisfied: googleapis-common-protos<2,>=1.52.0 in /usr/local/lib/python3.7/dist-packages (from tensorflow-metadata->tfds-nightly) (1.53.0)\n",
            "Installing collected packages: tfds-nightly\n",
            "Successfully installed tfds-nightly-4.3.0.dev202105110107\n"
          ],
          "name": "stdout"
        }
      ]
    },
    {
      "cell_type": "code",
      "metadata": {
        "id": "aoU__UtPfsis"
      },
      "source": [
        "from tensorflow import keras\n",
        "import numpy as np\n",
        "import pandas as pd\n",
        "from keras.datasets import mnist \n",
        "from keras.models import Sequential\n",
        "from keras.layers import Dense, Dropout, Conv2D, MaxPooling2D, Flatten\n",
        "from keras.utils import np_utils"
      ],
      "execution_count": 1,
      "outputs": []
    },
    {
      "cell_type": "code",
      "metadata": {
        "id": "-au9PJJUmW8T"
      },
      "source": [
        "def load_az_dataset(datasetPath):\n",
        "\tdata = []\n",
        "\tlabels = []\n",
        "\tfor row in open(datasetPath):\n",
        "\t\trow = row.split(\",\")\n",
        "\t\tlabel = int(row[0])\n",
        "\t\timage = np.array([int(x) for x in row[1:]], dtype=\"uint8\")\n",
        "\t\timage = image.reshape((28,28))\n",
        "\t\tdata.append(image)\n",
        "\t\tlabels.append(label)\n",
        "\tdata = np.array(data, dtype=\"float32\")\n",
        "\tlabels = np.array(labels, dtype=\"int\")\n",
        "\treturn (data, labels)"
      ],
      "execution_count": null,
      "outputs": []
    },
    {
      "cell_type": "code",
      "metadata": {
        "id": "zotrSgkgo0B2"
      },
      "source": [
        "def load_mnist_dataset():\n",
        "\t((trainData, trainLabels), (testData, testLabels)) = mnist.load_data()\n",
        "\tdata = np.vstack([trainData, testData])\n",
        "\tlabels = np.hstack([trainLabels, testLabels])\n",
        "\treturn (data, labels)"
      ],
      "execution_count": null,
      "outputs": []
    },
    {
      "cell_type": "code",
      "metadata": {
        "id": "ZWQneCNL-vZm"
      },
      "source": [
        "def load_emnist_dataset():\n",
        "\t(img_train, label_train), (img_test, label_test) = tfds.as_numpy(tfds.load(\n",
        "    'emnist/letters',\n",
        "    split=['train', 'test'],\n",
        "    batch_size=-1,\n",
        "    as_supervised=True,\n",
        "))\n",
        "\tdata_emnist = np.vstack([img_train, img_test])\n",
        "\tlabels_emnist = np.hstack([label_train, label_test])\n",
        "\treturn (data_emnist, labels_emnist)"
      ],
      "execution_count": null,
      "outputs": []
    },
    {
      "cell_type": "code",
      "metadata": {
        "id": "kqBjxa1EmRe6"
      },
      "source": [
        "import matplotlib\n",
        "matplotlib.use(\"Agg\")\n",
        "from tensorflow.keras.preprocessing.image import ImageDataGenerator\n",
        "from tensorflow.keras.optimizers import SGD\n",
        "from sklearn.preprocessing import LabelBinarizer\n",
        "from sklearn.model_selection import train_test_split\n",
        "from sklearn.metrics import classification_report\n",
        "from imutils import build_montages\n",
        "import matplotlib.pyplot as plt\n",
        "import numpy as np\n",
        "import cv2\n",
        "\n",
        "from keras.models import save_model, load_model\n",
        "import imutils\n",
        "from imutils.contours import sort_contours\n",
        "from google.colab.patches import cv2_imshow"
      ],
      "execution_count": 2,
      "outputs": []
    },
    {
      "cell_type": "code",
      "metadata": {
        "id": "yOLlV9KJo3m7",
        "colab": {
          "base_uri": "https://localhost:8080/"
        },
        "outputId": "510dff98-dbee-4167-ff60-32e2a4466a97"
      },
      "source": [
        "(azData, azLabels) = load_az_dataset('/content/drive/MyDrive/CMPE255_Project/A_Z Handwritten Data.csv')\n",
        "(digitsData, digitsLabels) = load_mnist_dataset()\n",
        "#(emnistData, emnistLabels) = load_emnist_dataset()"
      ],
      "execution_count": null,
      "outputs": [
        {
          "output_type": "stream",
          "text": [
            "Downloading data from https://storage.googleapis.com/tensorflow/tf-keras-datasets/mnist.npz\n",
            "11493376/11490434 [==============================] - 0s 0us/step\n"
          ],
          "name": "stdout"
        }
      ]
    },
    {
      "cell_type": "code",
      "metadata": {
        "id": "TtKPOd91DdLS"
      },
      "source": [
        "#emnistLabels -= 1"
      ],
      "execution_count": null,
      "outputs": []
    },
    {
      "cell_type": "code",
      "metadata": {
        "colab": {
          "base_uri": "https://localhost:8080/"
        },
        "id": "vkj-aw4HDfQY",
        "outputId": "987f7462-0b0d-4967-e59e-e60cca77cd97"
      },
      "source": [
        "print(np.unique(digitsLabels))\n",
        "\n",
        "#print(np.unique(emnistLabels))\n",
        "\n",
        "print(np.unique(azLabels))\n"
      ],
      "execution_count": null,
      "outputs": [
        {
          "output_type": "stream",
          "text": [
            "[0 1 2 3 4 5 6 7 8 9]\n",
            "[ 0  1  2  3  4  5  6  7  8  9 10 11 12 13 14 15 16 17 18 19 20 21 22 23\n",
            " 24 25]\n"
          ],
          "name": "stdout"
        }
      ]
    },
    {
      "cell_type": "code",
      "metadata": {
        "id": "rNUwgzrbpMcP"
      },
      "source": [
        "azLabels += 10\n",
        "#emnistLabels +=36\n",
        "labels = np.hstack([azLabels, digitsLabels])\n"
      ],
      "execution_count": null,
      "outputs": []
    },
    {
      "cell_type": "code",
      "metadata": {
        "id": "BRo-5ZMgY16Q"
      },
      "source": [
        "# for emnist\n",
        "# labels1= np.hstack([azLabels, digitsLabels, emnistLabels])"
      ],
      "execution_count": null,
      "outputs": []
    },
    {
      "cell_type": "code",
      "metadata": {
        "colab": {
          "base_uri": "https://localhost:8080/"
        },
        "id": "KO_2nV1fEweE",
        "outputId": "22b89d52-df41-4ccf-e771-71413fb8a6f4"
      },
      "source": [
        "np.unique(labels)"
      ],
      "execution_count": null,
      "outputs": [
        {
          "output_type": "execute_result",
          "data": {
            "text/plain": [
              "array([0, 1])"
            ]
          },
          "metadata": {
            "tags": []
          },
          "execution_count": 17
        }
      ]
    },
    {
      "cell_type": "code",
      "metadata": {
        "id": "cg4-K6x6LmNM"
      },
      "source": [
        "'''\n",
        "emnist_data = np.full((103600, 28,28),None, dtype='float32')\n",
        "\n",
        "copy = emnistData\n",
        "\n",
        "for i in range(copy.shape[0]):\n",
        "  test = copy[i]\n",
        "  emnist_data[i] = test.reshape((28,28))\n",
        "\n",
        "'''"
      ],
      "execution_count": null,
      "outputs": []
    },
    {
      "cell_type": "code",
      "metadata": {
        "id": "qTk_Zoj7E9ih"
      },
      "source": [
        "data = np.vstack([azData, digitsData])\n",
        "\n",
        "## for emnist data1 = np.vstack([azData, digitsData, emnist_data])\n",
        "\n",
        "data = [cv2.resize(image, (32, 32)) for image in data]\n",
        "data = np.array(data, dtype=\"float32\")\n",
        "\n",
        "data = np.expand_dims(data, axis=-1)\n",
        "data /= 255.0"
      ],
      "execution_count": null,
      "outputs": []
    },
    {
      "cell_type": "code",
      "metadata": {
        "colab": {
          "base_uri": "https://localhost:8080/"
        },
        "id": "_oofeq0QFhYj",
        "outputId": "33911d71-e6bd-4674-d1db-06c504f5dcbb"
      },
      "source": [
        "len(data)"
      ],
      "execution_count": null,
      "outputs": [
        {
          "output_type": "execute_result",
          "data": {
            "text/plain": [
              "442451"
            ]
          },
          "metadata": {
            "tags": []
          },
          "execution_count": 19
        }
      ]
    },
    {
      "cell_type": "code",
      "metadata": {
        "id": "cwsa6tKY0Gx2"
      },
      "source": [
        "# convert the labels from integers to vectors\n",
        "le = LabelBinarizer()\n",
        "labels = le.fit_transform(labels)\n",
        "counts = labels.sum(axis=0)\n",
        "# account for skew in the labeled data\n",
        "classTotals = labels.sum(axis=0)\n",
        "classWeight = {}\n",
        "# loop over all classes and calculate the class weight\n",
        "for i in range(0, len(classTotals)):\n",
        "\tclassWeight[i] = classTotals.max() / classTotals[i]\n",
        "# partition the data into training and testing splits using 80% of\n",
        "# the data for training and the remaining 20% for testing\n",
        "(trainX, testX, trainY, testY) = train_test_split(data, labels, test_size=0.20, stratify=labels, random_state=42)"
      ],
      "execution_count": null,
      "outputs": []
    },
    {
      "cell_type": "code",
      "metadata": {
        "id": "GeFcbrzw0QXl"
      },
      "source": [
        "aug = ImageDataGenerator(\n",
        "\trotation_range=10,\n",
        "\tzoom_range=0.05,\n",
        "\twidth_shift_range=0.1,\n",
        "\theight_shift_range=0.1,\n",
        "\tshear_range=0.15,\n",
        "\thorizontal_flip=False,\n",
        "\tfill_mode=\"nearest\")"
      ],
      "execution_count": null,
      "outputs": []
    },
    {
      "cell_type": "code",
      "metadata": {
        "colab": {
          "base_uri": "https://localhost:8080/"
        },
        "id": "pJu-W5qMAMlm",
        "outputId": "0e883109-f77d-45c3-fca8-fc63029283fb"
      },
      "source": [
        "len(le.classes_)"
      ],
      "execution_count": null,
      "outputs": [
        {
          "output_type": "execute_result",
          "data": {
            "text/plain": [
              "36"
            ]
          },
          "metadata": {
            "tags": []
          },
          "execution_count": 15
        }
      ]
    },
    {
      "cell_type": "code",
      "metadata": {
        "id": "-ezGxsdc_8hq"
      },
      "source": [
        "model = Sequential()\n",
        "# first hidden layer, convolutional layer, 32 filters/output channels with size of 5x5 and an activation function\n",
        "model.add(Conv2D(32, (5, 5), input_shape=(32,32, 1), activation='relu'))\n",
        "# maxpooling layer, reduce overfitting, the number of parameters, training time\n",
        "model.add(MaxPooling2D(pool_size=(2, 2)))\n",
        "# another hidden layer\n",
        "model.add(Conv2D(32, (3, 3), activation='relu'))\n",
        "# another maxpooling layer\n",
        "model.add(MaxPooling2D(pool_size=(2, 2)))\n",
        "# regularization layer using dropout, randomly exclude 20% of neurons to reduce overfitting\n",
        "model.add(Dropout(0.2))\n",
        "# convert 2D matrix data to a vector\n",
        "#model.add(Conv2D(64, (3, 3), activation='relu'))\n",
        "# another maxpooling layer\n",
        "#model.add(MaxPooling2D(pool_size=(2, 2)))\n",
        "# regularization layer using dropout, randomly exclude 30% of neurons to reduce overfitting\n",
        "#model.add(Dropout(0.3))\n",
        "# convert 2D matrix data to a vector\n",
        "model.add(Flatten())\n",
        "# fully connected layer with 128 neurons\n",
        "model.add(Dense(128, activation='relu'))\n",
        "# output layer with 10 neurons, number of class\n",
        "model.add(Dense(len(le.classes_), activation='softmax'))"
      ],
      "execution_count": null,
      "outputs": []
    },
    {
      "cell_type": "code",
      "metadata": {
        "id": "cuntYZ1P4diN"
      },
      "source": [
        "\n",
        "EPOCHS = 50\n",
        "INIT_LR = 1e-1\n",
        "BS = 128\n",
        "\n",
        "opt = SGD(lr=INIT_LR, decay=INIT_LR / EPOCHS)\n",
        "\n"
      ],
      "execution_count": null,
      "outputs": []
    },
    {
      "cell_type": "code",
      "metadata": {
        "id": "SsjOZVK03ytm"
      },
      "source": [
        "opt = SGD(lr=INIT_LR, decay=INIT_LR / EPOCHS)\n",
        "model.compile(loss=\"categorical_crossentropy\", optimizer=opt,\n",
        "\tmetrics=[\"accuracy\"])"
      ],
      "execution_count": null,
      "outputs": []
    },
    {
      "cell_type": "code",
      "metadata": {
        "id": "El-IDxe330hT"
      },
      "source": [
        "H = model.fit( aug.flow(trainX, trainY, batch_size=BS),\n",
        "\tvalidation_data=(testX, testY),\n",
        "\tsteps_per_epoch=len(trainX) // BS,\n",
        "\tepochs=EPOCHS,\n",
        "\tclass_weight=classWeight,\n",
        "\tverbose=1)"
      ],
      "execution_count": null,
      "outputs": []
    },
    {
      "cell_type": "code",
      "metadata": {
        "colab": {
          "base_uri": "https://localhost:8080/"
        },
        "id": "iBbAOH1LbWK3",
        "outputId": "e5d579f8-6e82-46d7-8d2e-8cf145f70573"
      },
      "source": [
        "amodel.save('//content/drive/MyDrive/CMPE255_Project/')"
      ],
      "execution_count": null,
      "outputs": [
        {
          "output_type": "stream",
          "text": [
            "INFO:tensorflow:Assets written to: //content/drive/MyDrive/CMPE255_Project/assets\n"
          ],
          "name": "stdout"
        }
      ]
    },
    {
      "cell_type": "code",
      "metadata": {
        "id": "Oce0chrJbrPS"
      },
      "source": [
        "save_model(model, '/content/drive/MyDrive/CMPE255_Project/model_jd_aug_1.h5')"
      ],
      "execution_count": null,
      "outputs": []
    },
    {
      "cell_type": "code",
      "metadata": {
        "id": "aSMQ2xFWJDlS"
      },
      "source": [
        "model = load_model('/content/drive/MyDrive/CMPE255_Project/model_jd_96.h5')"
      ],
      "execution_count": 5,
      "outputs": []
    },
    {
      "cell_type": "code",
      "metadata": {
        "id": "IJxQeIc6cEr6"
      },
      "source": [
        "def prep_labels():\n",
        "  labelNames = \"0123456789\"\n",
        "  labelNames += \"ABCDEFGHIJKLMNOPQRSTUVWXYZ\"\n",
        "  labelNames = [l for l in labelNames]\n",
        "  return labelNames"
      ],
      "execution_count": 6,
      "outputs": []
    },
    {
      "cell_type": "code",
      "metadata": {
        "id": "XexoBTnieF0Q"
      },
      "source": [
        "def get_image_predict(image_path):\n",
        "  image = cv2.imread(image_path)\n",
        "  gray = cv2.cvtColor(image, cv2.COLOR_BGR2GRAY)\n",
        "  blurred = cv2.GaussianBlur(gray, (5, 5), 0)\n",
        "  # perform edge detection, find contours in the edge map, and sort the\n",
        "  # resulting contours from left-to-right\n",
        "  edged = cv2.Canny(blurred, 30, 150)\n",
        "  cnts = cv2.findContours(edged.copy(), cv2.RETR_EXTERNAL,\n",
        "    cv2.CHAIN_APPROX_SIMPLE)\n",
        "  cnts = imutils.grab_contours(cnts)\n",
        "  cnts = sort_contours(cnts, method=\"left-to-right\")[0]\n",
        "  # initialize the list of contour bounding boxes and associated\n",
        "  # characters that we'll be OCR'ing\n",
        "  chars = []\n",
        "  # loop over the contours\n",
        "  for c in cnts:\n",
        "    # compute the bounding box of the contour\n",
        "    (x, y, w, h) = cv2.boundingRect(c)\n",
        "    # filter out bounding boxes, ensuring they are neither too small\n",
        "    # nor too large\n",
        "    if (w >= 20 and w <= 500) and (h >= 20 and h <= 500):\n",
        "      # extract the character and threshold it to make the character\n",
        "      # appear as *white* (foreground) on a *black* background, then\n",
        "      # grab the width and height of the thresholded image\n",
        "      roi = gray[y:y + h, x:x + w]\n",
        "      thresh = cv2.threshold(roi, 0, 255,\n",
        "        cv2.THRESH_BINARY_INV | cv2.THRESH_OTSU)[1]\n",
        "      (tH, tW) = thresh.shape\n",
        "      # if the width is greater than the height, resize along the\n",
        "      # width dimension\n",
        "      if tW > tH:\n",
        "        thresh = imutils.resize(thresh, width=32)\n",
        "      # otherwise, resize along the height\n",
        "      else:\n",
        "        thresh = imutils.resize(thresh, height=32)\n",
        "          # re-grab the image dimensions (now that its been resized)\n",
        "      # and then determine how much we need to pad the width and\n",
        "      # height such that our image will be 32x32\n",
        "      (tH, tW) = thresh.shape\n",
        "      dX = int(max(0, 32 - tW) / 2.0)\n",
        "      dY = int(max(0, 32 - tH) / 2.0)\n",
        "      # pad the image and force 32x32 dimensions\n",
        "      padded = cv2.copyMakeBorder(thresh, top=dY, bottom=dY,\n",
        "        left=dX, right=dX, borderType=cv2.BORDER_CONSTANT,\n",
        "        value=(0, 0, 0))\n",
        "      padded = cv2.resize(padded, (32,32))\n",
        "      # prepare the padded image for classification via our\n",
        "      # handwriting OCR model\n",
        "      padded = padded.astype(\"float32\") / 255.0\n",
        "      padded = np.expand_dims(padded, axis=-1)\n",
        "      # update our list of characters that will be OCR'd\n",
        "      chars.append((padded, (x, y, w, h)))\n",
        "    # extract the bounding box locations and padded characters\n",
        "  boxes = [b[1] for b in chars]\n",
        "  chars = np.array([c[0] for c in chars], dtype=\"float32\")\n",
        "  # OCR the characters using our handwriting recognition model\n",
        "  preds = model.predict(chars)\n",
        "  text = []\n",
        "  for (pred, (x, y, w, h)) in zip(preds, boxes):\n",
        "\t# find the index of the label with the largest corresponding\n",
        "\t# probability, then extract the probability and label\n",
        "    i = np.argmax(pred)\n",
        "    prob = pred[i]\n",
        "    label = prep_labels()[i]\n",
        "    text.append(label)\n",
        "    # draw the prediction on the image\n",
        "    print(\"[INFO] {} - {:.2f}%\".format(label, prob * 100))\n",
        "    cv2.rectangle(image, (x, y), (x + w, y + h), (0, 255, 0), 2)\n",
        "    cv2.putText(image, label, (x - 10, y - 10),\n",
        "      cv2.FONT_HERSHEY_SIMPLEX, 1.2, (0, 255, 0), 2)\n",
        "    \n",
        "    word = ''.join(map(str,text))\n",
        "  return image, word"
      ],
      "execution_count": 16,
      "outputs": []
    },
    {
      "cell_type": "code",
      "metadata": {
        "colab": {
          "base_uri": "https://localhost:8080/"
        },
        "id": "Kf7vKmvbHzUy",
        "outputId": "c7649ee1-d79c-44b4-e4d8-7da5f347a1f3"
      },
      "source": [
        "image, output = get_image_predict('/content/trial 2.png')"
      ],
      "execution_count": 17,
      "outputs": [
        {
          "output_type": "stream",
          "text": [
            "[INFO] P - 92.72%\n",
            "[INFO] T - 54.81%\n",
            "[INFO] P - 55.63%\n",
            "[INFO] 5 - 39.86%\n",
            "[INFO] T - 91.05%\n",
            "[INFO] 0 - 95.63%\n",
            "[INFO] U - 65.88%\n",
            "[INFO] Y - 76.22%\n",
            "[INFO] L - 96.38%\n",
            "[INFO] U - 71.77%\n",
            "[INFO] M - 59.58%\n",
            "[INFO] F - 72.89%\n",
            "[INFO] N - 98.45%\n",
            "[INFO] 8 - 36.61%\n",
            "[INFO] L - 93.46%\n",
            "[INFO] U - 57.89%\n",
            "[INFO] N - 99.61%\n",
            "[INFO] T - 99.74%\n"
          ],
          "name": "stdout"
        }
      ]
    },
    {
      "cell_type": "code",
      "metadata": {
        "colab": {
          "base_uri": "https://localhost:8080/",
          "height": 1000
        },
        "id": "qbYeo9KVdAFt",
        "outputId": "9bd72c1c-330a-4e70-fbb0-ab57d3317c81"
      },
      "source": [
        "cv2_imshow(image)"
      ],
      "execution_count": 18,
      "outputs": [
        {
          "output_type": "display_data",
          "data": {
            "image/png": "[encoded data removed]",
            "text/plain": [
              "<PIL.Image.Image image mode=RGB size=1328x1218 at 0x7F7230944550>"
            ]
          },
          "metadata": {
            "tags": []
          }
        }
      ]
    },
    {
      "cell_type": "code",
      "metadata": {
        "id": "COxEQM6GFfD1"
      },
      "source": [
        ""
      ],
      "execution_count": null,
      "outputs": []
    },
    {
      "cell_type": "code",
      "metadata": {
        "id": "YLKMFUUC9c4A"
      },
      "source": [
        ""
      ],
      "execution_count": null,
      "outputs": []
    }
  ]
}