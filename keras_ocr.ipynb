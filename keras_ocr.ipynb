{
  "nbformat": 4,
  "nbformat_minor": 0,
  "metadata": {
    "colab": {
      "name": "keras_ocr_new.ipynb",
      "provenance": [],
      "collapsed_sections": []
    },
    "kernelspec": {
      "name": "python3",
      "display_name": "Python 3"
    },
    "language_info": {
      "name": "python"
    }
  },
  "cells": [
    {
      "cell_type": "code",
      "metadata": {
        "_uuid": "9012bf3f3eadc2669e5e42c40752ab7143fa9ef8",
        "colab": {
          "base_uri": "https://localhost:8080/"
        },
        "id": "icM-XIze_joQ",
        "outputId": "213eb9d8-c4ba-4106-b774-0d41d198019a"
      },
      "source": [
        "# TensorFlow and tf.keras\n",
        "import numpy as np\n",
        "import tensorflow as tf\n",
        "from tensorflow import keras\n",
        "from tensorflow.keras.layers import Conv2D, MaxPooling2D, Dropout, Flatten, Dense\n",
        "from sklearn.model_selection import train_test_split\n",
        "from keras.utils import np_utils\n",
        "from sklearn.preprocessing import MinMaxScaler\n",
        "from keras.utils import to_categorical\n",
        "\n",
        "# Commonly used modules\n",
        "\n",
        "import os\n",
        "import sys\n",
        "\n",
        "# Images, plots, display, and visualization\n",
        "import matplotlib.pyplot as plt\n",
        "import pandas as pd\n",
        "import seaborn as sns\n",
        "import cv2\n",
        "import IPython\n",
        "from six.moves import urllib\n",
        "\n",
        "# Google Drive import\n",
        "from google.colab import drive \n",
        "drive.mount('/content/gdrive')\n",
        "\n",
        "import warnings\n",
        "warnings.filterwarnings('ignore') \n",
        "\n",
        "print(tf.__version__)"
      ],
      "execution_count": 1,
      "outputs": [
        {
          "output_type": "stream",
          "text": [
            "Mounted at /content/gdrive\n",
            "2.4.1\n"
          ],
          "name": "stdout"
        }
      ]
    },
    {
      "cell_type": "code",
      "metadata": {
        "id": "VrM11SR_ABYN"
      },
      "source": [
        "#dataset = pd.read_csv(\"gdrive/My Drive/Colab Notebooks/data.csv\").astype('float32')\n",
        "dataset = pd.read_csv(\"gdrive/My Drive/Colab Notebooks/data.csv\")\n",
        "dataset.rename(columns={'0':'label'}, inplace=True)\n",
        "\n",
        "# Splite data the X - Our data , and y - the prdict label\n",
        "X = dataset.drop('label',axis = 1)\n",
        "y = dataset['label']"
      ],
      "execution_count": null,
      "outputs": []
    },
    {
      "cell_type": "code",
      "metadata": {
        "id": "rgiYg4yu_nNY"
      },
      "source": [
        "X_train, X_test, y_train, y_test = train_test_split(X,y)\n",
        "#standard_scaler = MinMaxScaler()\n",
        "#standard_scaler.fit(X_train)\n",
        "\n",
        "#X_train = standard_scaler.transform(X_train)\n",
        "#X_test = standard_scaler.transform(X_test)\n",
        "\n",
        "X_train = to_categorical(X_train)\n",
        "X_test = to_categorical(X_test)\n"
      ],
      "execution_count": null,
      "outputs": []
    },
    {
      "cell_type": "code",
      "metadata": {
        "id": "mV8sMcokBt1Z"
      },
      "source": [
        "X_train = X_train.reshape(X_train.shape[0], 28, 28, 1).astype('float32')\n",
        "X_test = X_test.reshape(X_test.shape[0], 28, 28, 1).astype('float32')\n",
        "\n",
        "y_train = np_utils.to_categorical(y_train)\n",
        "y_test = np_utils.to_categorical(y_test)"
      ],
      "execution_count": null,
      "outputs": []
    },
    {
      "cell_type": "code",
      "metadata": {
        "_uuid": "1c4d7b15edf9ab6ad3bb2dc9cc80ac6c708c3aae",
        "id": "-rjBxna3qkse"
      },
      "source": [
        "model = keras.Sequential()\n",
        "# 32 convolution filters used each of size 3x3\n",
        "model.add(Conv2D(32, kernel_size=(3, 3), activation='relu', input_shape=(28, 28, 1)))\n",
        "# 64 convolution filters used each of size 3x3\n",
        "model.add(Conv2D(64, (3, 3), activation='relu'))\n",
        "# choose the best features via pooling\n",
        "model.add(MaxPooling2D(pool_size=(2, 2)))\n",
        "# randomly turn neurons on and off to improve convergence\n",
        "model.add(Dropout(0.25))\n",
        "# flatten since too many dimensions, we only want a classification output\n",
        "model.add(Flatten())\n",
        "# fully connected to get all relevant data\n",
        "model.add(Dense(128, activation='relu'))\n",
        "# one more dropout\n",
        "model.add(Dropout(0.5))\n",
        "# output a softmax to squash the matrix into output probabilities\n",
        "model.add(Dense(10, activation='softmax'))"
      ],
      "execution_count": null,
      "outputs": []
    },
    {
      "cell_type": "code",
      "metadata": {
        "_uuid": "05bc9e68e0a84b345118e0f36de70edcb12be6f8",
        "id": "o2-2cy8Pqksf"
      },
      "source": [
        "model.compile(optimizer=tf.optimizers.Adam(), \n",
        "              loss='sparse_categorical_crossentropy',\n",
        "              metrics=['accuracy'])"
      ],
      "execution_count": null,
      "outputs": []
    },
    {
      "cell_type": "code",
      "metadata": {
        "id": "6kJZ_f7pC2t6"
      },
      "source": [
        "history = model.fit(X, y, epochs=150, batch_size=10, verbose=1)\n"
      ],
      "execution_count": null,
      "outputs": []
    },
    {
      "cell_type": "code",
      "metadata": {
        "id": "dpBqsh_bDkeq"
      },
      "source": [
        "scores = model.evaluate(X_test,y_test, verbose=0)\n",
        "print(\"Score:\",scores[1])"
      ],
      "execution_count": null,
      "outputs": []
    },
    {
      "cell_type": "code",
      "metadata": {
        "id": "Asd6k2_vD0qK"
      },
      "source": [
        "model.save('keras_ocr')"
      ],
      "execution_count": null,
      "outputs": []
    }
  ]
}