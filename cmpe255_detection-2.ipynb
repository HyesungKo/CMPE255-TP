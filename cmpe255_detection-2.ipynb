{
  "nbformat": 4,
  "nbformat_minor": 0,
  "metadata": {
    "colab": {
      "name": "Copy of cmpe255-detection.ipynb",
      "provenance": [],
      "collapsed_sections": []
    },
    "kernelspec": {
      "name": "python3",
      "display_name": "Python 3"
    },
    "language_info": {
      "name": "python"
    },
    "accelerator": "GPU"
  },
  "cells": [
    {
      "cell_type": "code",
      "metadata": {
        "colab": {
          "base_uri": "https://localhost:8080/"
        },
        "id": "yNZXi-jKCIP7",
        "outputId": "820cf8bb-2dfc-43e0-d37f-710484e5bc1f"
      },
      "source": [
        "from google.colab import drive\n",
        "drive.mount('/content/drive')"
      ],
      "execution_count": null,
      "outputs": [
        {
          "output_type": "stream",
          "text": [
            "Drive already mounted at /content/drive; to attempt to forcibly remount, call drive.mount(\"/content/drive\", force_remount=True).\n"
          ],
          "name": "stdout"
        }
      ]
    },
    {
      "cell_type": "code",
      "metadata": {
        "id": "aoU__UtPfsis"
      },
      "source": [
        "from tensorflow import keras\n",
        "import numpy as np\n",
        "import pandas as pd\n",
        "from keras.datasets import mnist \n",
        "from keras.models import Sequential\n",
        "from keras.layers import Dense, Dropout, Conv2D, MaxPooling2D, Flatten, GlobalAveragePooling2D, BatchNormalization\n",
        "from keras.utils import np_utils"
      ],
      "execution_count": null,
      "outputs": []
    },
    {
      "cell_type": "code",
      "metadata": {
        "id": "-au9PJJUmW8T"
      },
      "source": [
        "def load_az_dataset(datasetPath):\n",
        "\tdata = []\n",
        "\tlabels = []\n",
        "\tfor row in open(datasetPath):\n",
        "\t\trow = row.split(\",\")\n",
        "\t\tlabel = int(row[0])\n",
        "\t\timage = np.array([int(x) for x in row[1:]], dtype=\"uint8\")\n",
        "\t\timage = image.reshape((28,28))\n",
        "\t\tdata.append(image)\n",
        "\t\tlabels.append(label)\n",
        "\tdata = np.array(data, dtype=\"float32\")\n",
        "\tlabels = np.array(labels, dtype=\"int\")\n",
        "\treturn (data, labels)"
      ],
      "execution_count": null,
      "outputs": []
    },
    {
      "cell_type": "code",
      "metadata": {
        "id": "zotrSgkgo0B2"
      },
      "source": [
        "def load_mnist_dataset():\n",
        "\t((trainData, trainLabels), (testData, testLabels)) = mnist.load_data()\n",
        "\tdata = np.vstack([trainData, testData])\n",
        "\tlabels = np.hstack([trainLabels, testLabels])\n",
        "\treturn (data, labels)"
      ],
      "execution_count": null,
      "outputs": []
    },
    {
      "cell_type": "code",
      "metadata": {
        "id": "kqBjxa1EmRe6"
      },
      "source": [
        "import matplotlib\n",
        "matplotlib.use(\"Agg\")\n",
        "from tensorflow.keras.preprocessing.image import ImageDataGenerator\n",
        "from tensorflow.keras.optimizers import SGD\n",
        "from sklearn.preprocessing import LabelBinarizer\n",
        "from sklearn.model_selection import train_test_split\n",
        "from sklearn.metrics import classification_report\n",
        "from imutils import build_montages\n",
        "import matplotlib.pyplot as plt\n",
        "import numpy as np\n",
        "import cv2\n",
        "\n",
        "from keras.models import save_model, load_model\n",
        "import imutils\n",
        "from imutils.contours import sort_contours\n",
        "from google.colab.patches import cv2_imshow"
      ],
      "execution_count": null,
      "outputs": []
    },
    {
      "cell_type": "code",
      "metadata": {
        "id": "yOLlV9KJo3m7"
      },
      "source": [
        "(azData, azLabels) = load_az_dataset('/content/drive/MyDrive/CMPE255_Project/A_Z Handwritten Data.csv')\n",
        "(digitsData, digitsLabels) = load_mnist_dataset()"
      ],
      "execution_count": null,
      "outputs": []
    },
    {
      "cell_type": "code",
      "metadata": {
        "colab": {
          "base_uri": "https://localhost:8080/"
        },
        "id": "vkj-aw4HDfQY",
        "outputId": "f7219070-00e8-493a-bd64-8990caad311e"
      },
      "source": [
        "print(np.unique(digitsLabels))\n",
        "\n",
        "print(np.unique(azLabels))\n"
      ],
      "execution_count": null,
      "outputs": [
        {
          "output_type": "stream",
          "text": [
            "[0 1 2 3 4 5 6 7 8 9]\n",
            "[ 0  1  2  3  4  5  6  7  8  9 10 11 12 13 14 15 16 17 18 19 20 21 22 23\n",
            " 24 25]\n"
          ],
          "name": "stdout"
        }
      ]
    },
    {
      "cell_type": "code",
      "metadata": {
        "id": "rNUwgzrbpMcP"
      },
      "source": [
        "azLabels += 10\n",
        "labels = np.hstack([azLabels, digitsLabels])"
      ],
      "execution_count": null,
      "outputs": []
    },
    {
      "cell_type": "code",
      "metadata": {
        "id": "qTk_Zoj7E9ih"
      },
      "source": [
        "data = np.vstack([azData, digitsData])\n",
        "\n",
        "data = [cv2.resize(image, (32, 32)) for image in data]\n",
        "data = np.array(data, dtype=\"float32\")\n",
        "\n",
        "data = np.expand_dims(data, axis=-1)"
      ],
      "execution_count": null,
      "outputs": []
    },
    {
      "cell_type": "code",
      "metadata": {
        "id": "cwsa6tKY0Gx2"
      },
      "source": [
        "# convert the labels from integers to vectors\n",
        "le = LabelBinarizer()\n",
        "labels = le.fit_transform(labels)\n",
        "counts = labels.sum(axis=0)\n",
        "# account for skew in the labeled data\n",
        "classTotals = labels.sum(axis=0)\n",
        "classWeight = {}\n",
        "# loop over all classes and calculate the class weight\n",
        "for i in range(0, len(classTotals)):\n",
        "\tclassWeight[i] = classTotals.max() / classTotals[i]\n",
        "# partition the data into training and testing splits using 80% of\n",
        "# the data for training and the remaining 20% for testing\n",
        "(trainX, testX, trainY, testY) = train_test_split(data, labels, test_size=0.20, stratify=labels, random_state=42)"
      ],
      "execution_count": null,
      "outputs": []
    },
    {
      "cell_type": "code",
      "metadata": {
        "id": "LbDLexN-6DXU"
      },
      "source": [
        "temp = labels"
      ],
      "execution_count": 110,
      "outputs": []
    },
    {
      "cell_type": "code",
      "metadata": {
        "id": "WonzFKuW6Ira"
      },
      "source": [
        "temp = le.inverse_transform(temp)"
      ],
      "execution_count": null,
      "outputs": []
    },
    {
      "cell_type": "code",
      "metadata": {
        "colab": {
          "base_uri": "https://localhost:8080/"
        },
        "id": "J3yQgswt6LrM",
        "outputId": "3ed9a781-ca50-490a-e7f3-ca765260779a"
      },
      "source": [
        "temp"
      ],
      "execution_count": 111,
      "outputs": [
        {
          "output_type": "execute_result",
          "data": {
            "text/plain": [
              "array([[0, 0, 0, ..., 0, 0, 0],\n",
              "       [0, 0, 0, ..., 0, 0, 0],\n",
              "       [0, 0, 0, ..., 0, 0, 0],\n",
              "       ...,\n",
              "       [0, 0, 0, ..., 0, 0, 0],\n",
              "       [0, 0, 0, ..., 0, 0, 0],\n",
              "       [0, 0, 0, ..., 0, 0, 0]])"
            ]
          },
          "metadata": {
            "tags": []
          },
          "execution_count": 111
        }
      ]
    },
    {
      "cell_type": "code",
      "metadata": {
        "id": "GeFcbrzw0QXl"
      },
      "source": [
        "aug = ImageDataGenerator(\n",
        "\trotation_range=10,\n",
        "\tzoom_range=0.05,\n",
        "\twidth_shift_range=0.1,\n",
        "\theight_shift_range=0.1,\n",
        "\tshear_range=0.15,\n",
        "\thorizontal_flip=False,\n",
        "\tfill_mode=\"nearest\")"
      ],
      "execution_count": null,
      "outputs": []
    },
    {
      "cell_type": "code",
      "metadata": {
        "colab": {
          "base_uri": "https://localhost:8080/"
        },
        "id": "pJu-W5qMAMlm",
        "outputId": "85ea0e29-a66d-47a6-a8fd-d40a7522c32b"
      },
      "source": [
        "len(le.classes_)"
      ],
      "execution_count": null,
      "outputs": [
        {
          "output_type": "execute_result",
          "data": {
            "text/plain": [
              "36"
            ]
          },
          "metadata": {
            "tags": []
          },
          "execution_count": 12
        }
      ]
    },
    {
      "cell_type": "code",
      "metadata": {
        "id": "S7oG_Fgymdh9"
      },
      "source": [
        "model = Sequential()\n",
        "\n",
        "model.add(Conv2D(32,kernel_size=3,activation='relu',input_shape=(32,32,1)))\n",
        "model.add(BatchNormalization())\n",
        "model.add(Conv2D(32,kernel_size=3,activation='relu'))\n",
        "model.add(BatchNormalization())\n",
        "model.add(Conv2D(32,kernel_size=5,strides=2,padding='same',activation='relu'))\n",
        "model.add(BatchNormalization())\n",
        "model.add(Dropout(0.4))\n",
        "\n",
        "model.add(Conv2D(64,kernel_size=3,activation='relu'))\n",
        "model.add(BatchNormalization())\n",
        "model.add(Conv2D(64,kernel_size=3,activation='relu'))\n",
        "model.add(BatchNormalization())\n",
        "model.add(Conv2D(64,kernel_size=5,strides=2,padding='same',activation='relu'))\n",
        "model.add(BatchNormalization())\n",
        "model.add(Dropout(0.4))\n",
        "\n",
        "model.add(Flatten())\n",
        "model.add(Dense(128, activation='relu'))\n",
        "model.add(BatchNormalization())\n",
        "model.add(Dropout(0.4))\n",
        "model.add(Dense(len(le.classes_), activation='softmax'))"
      ],
      "execution_count": null,
      "outputs": []
    },
    {
      "cell_type": "markdown",
      "metadata": {
        "id": "SNM9kqFImfJP"
      },
      "source": [
        ""
      ]
    },
    {
      "cell_type": "code",
      "metadata": {
        "id": "-ezGxsdc_8hq"
      },
      "source": [
        "'''\n",
        "\n",
        "model = Sequential()\n",
        "# first hidden layer, convolutional layer, 32 filters/output channels with size of 5x5 and an activation function\n",
        "model.add(Conv2D(32, (5, 5), input_shape=(32,32, 1), activation='relu'))\n",
        "# maxpooling layer, reduce overfitting, the number of parameters, training time\n",
        "model.add(MaxPooling2D(pool_size=(2, 2)))\n",
        "# another hidden layer\n",
        "model.add(Conv2D(32, (3, 3), activation='relu'))\n",
        "# another maxpooling layer\n",
        "model.add(MaxPooling2D(pool_size=(2, 2)))\n",
        "# regularization layer using dropout, randomly exclude 20% of neurons to reduce overfitting\n",
        "model.add(Dropout(0.2))\n",
        "# convert 2D matrix data to a vector\n",
        "model.add(Conv2D(64, (3, 3), activation='relu'))\n",
        "# another maxpooling layer\n",
        "model.add(MaxPooling2D(pool_size=(2, 2)))\n",
        "# regularization layer using dropout, randomly exclude 20% of neurons to reduce overfitting\n",
        "model.add(Dropout(0.3))\n",
        "# convert 2D matrix data to a vector\n",
        "model.add(Flatten())\n",
        "# fully connected layer with 128 neurons\n",
        "model.add(Dense(128, activation='relu'))\n",
        "# output layer with 10 neurons, number of class\n",
        "model.add(Dense(len(le.classes_), activation='softmax'))\n",
        "\n",
        "'''"
      ],
      "execution_count": null,
      "outputs": []
    },
    {
      "cell_type": "code",
      "metadata": {
        "id": "cuntYZ1P4diN"
      },
      "source": [
        "EPOCHS = 75\n",
        "INIT_LR = 1e-1\n",
        "BS = 128\n",
        "\n",
        "\n",
        "opt = SGD(lr=INIT_LR, decay=INIT_LR / EPOCHS)"
      ],
      "execution_count": null,
      "outputs": []
    },
    {
      "cell_type": "code",
      "metadata": {
        "id": "SsjOZVK03ytm"
      },
      "source": [
        "opt = SGD(lr=INIT_LR, decay=INIT_LR / EPOCHS)\n",
        "model.compile(loss=\"categorical_crossentropy\", optimizer=opt,\n",
        "\tmetrics=[\"accuracy\"])"
      ],
      "execution_count": null,
      "outputs": []
    },
    {
      "cell_type": "code",
      "metadata": {
        "id": "El-IDxe330hT",
        "colab": {
          "base_uri": "https://localhost:8080/"
        },
        "outputId": "ad5d2fd3-1b69-421b-8a40-f72318b3e19f"
      },
      "source": [
        "H = model.fit(trainX, trainY, batch_size=BS,\n",
        "\tvalidation_data=(testX, testY),\n",
        "\tsteps_per_epoch=len(trainX) // BS,\n",
        "\tepochs=EPOCHS,\n",
        "\tclass_weight=classWeight,\n",
        "\tverbose=1)"
      ],
      "execution_count": null,
      "outputs": [
        {
          "output_type": "stream",
          "text": [
            "Epoch 1/75\n",
            "2765/2765 [==============================] - 39s 12ms/step - loss: 2.4214 - accuracy: 0.8279 - val_loss: 0.1413 - val_accuracy: 0.9529\n",
            "Epoch 2/75\n",
            "2765/2765 [==============================] - 34s 12ms/step - loss: 0.7152 - accuracy: 0.9355 - val_loss: 0.0940 - val_accuracy: 0.9725\n",
            "Epoch 3/75\n",
            "2765/2765 [==============================] - 34s 12ms/step - loss: 0.6045 - accuracy: 0.9454 - val_loss: 0.0922 - val_accuracy: 0.9722\n",
            "Epoch 4/75\n",
            "2765/2765 [==============================] - 34s 12ms/step - loss: 0.5492 - accuracy: 0.9492 - val_loss: 0.0885 - val_accuracy: 0.9728\n",
            "Epoch 5/75\n",
            "2765/2765 [==============================] - 34s 12ms/step - loss: 0.5156 - accuracy: 0.9525 - val_loss: 0.0798 - val_accuracy: 0.9761\n",
            "Epoch 6/75\n",
            "2765/2765 [==============================] - 34s 12ms/step - loss: 0.4882 - accuracy: 0.9554 - val_loss: 0.0819 - val_accuracy: 0.9742\n",
            "Epoch 7/75\n",
            "2765/2765 [==============================] - 34s 12ms/step - loss: 0.4775 - accuracy: 0.9551 - val_loss: 0.0767 - val_accuracy: 0.9767\n",
            "Epoch 8/75\n",
            "2765/2765 [==============================] - 34s 12ms/step - loss: 0.4537 - accuracy: 0.9574 - val_loss: 0.0820 - val_accuracy: 0.9733\n",
            "Epoch 9/75\n",
            "2765/2765 [==============================] - 34s 12ms/step - loss: 0.4435 - accuracy: 0.9583 - val_loss: 0.0824 - val_accuracy: 0.9729\n",
            "Epoch 10/75\n",
            "2765/2765 [==============================] - 34s 12ms/step - loss: 0.4411 - accuracy: 0.9589 - val_loss: 0.0784 - val_accuracy: 0.9755\n",
            "Epoch 11/75\n",
            "2765/2765 [==============================] - 34s 12ms/step - loss: 0.4236 - accuracy: 0.9600 - val_loss: 0.0887 - val_accuracy: 0.9695\n",
            "Epoch 12/75\n",
            "2765/2765 [==============================] - 34s 12ms/step - loss: 0.4214 - accuracy: 0.9594 - val_loss: 0.0793 - val_accuracy: 0.9741\n",
            "Epoch 13/75\n",
            "2765/2765 [==============================] - 34s 12ms/step - loss: 0.4255 - accuracy: 0.9601 - val_loss: 0.0747 - val_accuracy: 0.9765\n",
            "Epoch 14/75\n",
            "2765/2765 [==============================] - 34s 12ms/step - loss: 0.4166 - accuracy: 0.9612 - val_loss: 0.0804 - val_accuracy: 0.9734\n",
            "Epoch 15/75\n",
            "2765/2765 [==============================] - 34s 12ms/step - loss: 0.4075 - accuracy: 0.9613 - val_loss: 0.0771 - val_accuracy: 0.9751\n",
            "Epoch 16/75\n",
            "2765/2765 [==============================] - 34s 12ms/step - loss: 0.4113 - accuracy: 0.9612 - val_loss: 0.0756 - val_accuracy: 0.9759\n",
            "Epoch 17/75\n",
            "2765/2765 [==============================] - 34s 12ms/step - loss: 0.4090 - accuracy: 0.9619 - val_loss: 0.0716 - val_accuracy: 0.9777\n",
            "Epoch 18/75\n",
            "2765/2765 [==============================] - 34s 12ms/step - loss: 0.3907 - accuracy: 0.9630 - val_loss: 0.0769 - val_accuracy: 0.9749\n",
            "Epoch 19/75\n",
            "2765/2765 [==============================] - 34s 12ms/step - loss: 0.3820 - accuracy: 0.9632 - val_loss: 0.0687 - val_accuracy: 0.9790\n",
            "Epoch 20/75\n",
            "2765/2765 [==============================] - 34s 12ms/step - loss: 0.3874 - accuracy: 0.9627 - val_loss: 0.0732 - val_accuracy: 0.9766\n",
            "Epoch 21/75\n",
            "2765/2765 [==============================] - 34s 12ms/step - loss: 0.3810 - accuracy: 0.9636 - val_loss: 0.0752 - val_accuracy: 0.9755\n",
            "Epoch 22/75\n",
            "2765/2765 [==============================] - 34s 12ms/step - loss: 0.3807 - accuracy: 0.9637 - val_loss: 0.0742 - val_accuracy: 0.9758\n",
            "Epoch 23/75\n",
            "2765/2765 [==============================] - 34s 12ms/step - loss: 0.3767 - accuracy: 0.9638 - val_loss: 0.0753 - val_accuracy: 0.9756\n",
            "Epoch 24/75\n",
            "2765/2765 [==============================] - 34s 12ms/step - loss: 0.3735 - accuracy: 0.9641 - val_loss: 0.0752 - val_accuracy: 0.9751\n",
            "Epoch 25/75\n",
            "2765/2765 [==============================] - 34s 12ms/step - loss: 0.3792 - accuracy: 0.9641 - val_loss: 0.0695 - val_accuracy: 0.9783\n",
            "Epoch 26/75\n",
            "2765/2765 [==============================] - 34s 12ms/step - loss: 0.3746 - accuracy: 0.9640 - val_loss: 0.0709 - val_accuracy: 0.9774\n",
            "Epoch 27/75\n",
            "2765/2765 [==============================] - 34s 12ms/step - loss: 0.3682 - accuracy: 0.9646 - val_loss: 0.0732 - val_accuracy: 0.9761\n",
            "Epoch 28/75\n",
            "2765/2765 [==============================] - 34s 12ms/step - loss: 0.3663 - accuracy: 0.9643 - val_loss: 0.0701 - val_accuracy: 0.9776\n",
            "Epoch 29/75\n",
            "2765/2765 [==============================] - 34s 12ms/step - loss: 0.3562 - accuracy: 0.9657 - val_loss: 0.0723 - val_accuracy: 0.9765\n",
            "Epoch 30/75\n",
            "2765/2765 [==============================] - 34s 12ms/step - loss: 0.3712 - accuracy: 0.9653 - val_loss: 0.0734 - val_accuracy: 0.9760\n",
            "Epoch 31/75\n",
            "2765/2765 [==============================] - 34s 12ms/step - loss: 0.3605 - accuracy: 0.9650 - val_loss: 0.0663 - val_accuracy: 0.9796\n",
            "Epoch 32/75\n",
            "2765/2765 [==============================] - 34s 12ms/step - loss: 0.3621 - accuracy: 0.9655 - val_loss: 0.0737 - val_accuracy: 0.9756\n",
            "Epoch 33/75\n",
            "2765/2765 [==============================] - 34s 12ms/step - loss: 0.3580 - accuracy: 0.9652 - val_loss: 0.0715 - val_accuracy: 0.9766\n",
            "Epoch 34/75\n",
            "2765/2765 [==============================] - 34s 12ms/step - loss: 0.3493 - accuracy: 0.9655 - val_loss: 0.0710 - val_accuracy: 0.9770\n",
            "Epoch 35/75\n",
            "2765/2765 [==============================] - 34s 12ms/step - loss: 0.3512 - accuracy: 0.9653 - val_loss: 0.0762 - val_accuracy: 0.9743\n",
            "Epoch 36/75\n",
            "2765/2765 [==============================] - 34s 12ms/step - loss: 0.3560 - accuracy: 0.9658 - val_loss: 0.0700 - val_accuracy: 0.9776\n",
            "Epoch 37/75\n",
            "2765/2765 [==============================] - 34s 12ms/step - loss: 0.3544 - accuracy: 0.9661 - val_loss: 0.0735 - val_accuracy: 0.9756\n",
            "Epoch 38/75\n",
            "2765/2765 [==============================] - 34s 12ms/step - loss: 0.3482 - accuracy: 0.9656 - val_loss: 0.0688 - val_accuracy: 0.9781\n",
            "Epoch 39/75\n",
            "2765/2765 [==============================] - 34s 12ms/step - loss: 0.3487 - accuracy: 0.9669 - val_loss: 0.0683 - val_accuracy: 0.9783\n",
            "Epoch 40/75\n",
            "2765/2765 [==============================] - 34s 12ms/step - loss: 0.3525 - accuracy: 0.9662 - val_loss: 0.0690 - val_accuracy: 0.9780\n",
            "Epoch 41/75\n",
            "2765/2765 [==============================] - 34s 12ms/step - loss: 0.3498 - accuracy: 0.9664 - val_loss: 0.0719 - val_accuracy: 0.9765\n",
            "Epoch 42/75\n",
            "2765/2765 [==============================] - 34s 12ms/step - loss: 0.3448 - accuracy: 0.9664 - val_loss: 0.0650 - val_accuracy: 0.9799\n",
            "Epoch 43/75\n",
            "2765/2765 [==============================] - 34s 12ms/step - loss: 0.3412 - accuracy: 0.9666 - val_loss: 0.0705 - val_accuracy: 0.9770\n",
            "Epoch 44/75\n",
            "2765/2765 [==============================] - 34s 12ms/step - loss: 0.3464 - accuracy: 0.9667 - val_loss: 0.0711 - val_accuracy: 0.9765\n",
            "Epoch 45/75\n",
            "2765/2765 [==============================] - 34s 12ms/step - loss: 0.3371 - accuracy: 0.9665 - val_loss: 0.0707 - val_accuracy: 0.9767\n",
            "Epoch 46/75\n",
            "2765/2765 [==============================] - 34s 12ms/step - loss: 0.3408 - accuracy: 0.9673 - val_loss: 0.0657 - val_accuracy: 0.9795\n",
            "Epoch 47/75\n",
            "2765/2765 [==============================] - 34s 12ms/step - loss: 0.3357 - accuracy: 0.9674 - val_loss: 0.0683 - val_accuracy: 0.9781\n",
            "Epoch 48/75\n",
            "2765/2765 [==============================] - 34s 12ms/step - loss: 0.3496 - accuracy: 0.9667 - val_loss: 0.0674 - val_accuracy: 0.9785\n",
            "Epoch 49/75\n",
            "2765/2765 [==============================] - 34s 12ms/step - loss: 0.3313 - accuracy: 0.9673 - val_loss: 0.0666 - val_accuracy: 0.9788\n",
            "Epoch 50/75\n",
            "2765/2765 [==============================] - 34s 12ms/step - loss: 0.3440 - accuracy: 0.9665 - val_loss: 0.0688 - val_accuracy: 0.9779\n",
            "Epoch 51/75\n",
            "2765/2765 [==============================] - 34s 12ms/step - loss: 0.3307 - accuracy: 0.9670 - val_loss: 0.0710 - val_accuracy: 0.9766\n",
            "Epoch 52/75\n",
            "2765/2765 [==============================] - 34s 12ms/step - loss: 0.3384 - accuracy: 0.9671 - val_loss: 0.0672 - val_accuracy: 0.9786\n",
            "Epoch 53/75\n",
            "2765/2765 [==============================] - 34s 12ms/step - loss: 0.3314 - accuracy: 0.9674 - val_loss: 0.0666 - val_accuracy: 0.9789\n",
            "Epoch 54/75\n",
            "2765/2765 [==============================] - 34s 12ms/step - loss: 0.3364 - accuracy: 0.9672 - val_loss: 0.0658 - val_accuracy: 0.9794\n",
            "Epoch 55/75\n",
            "2765/2765 [==============================] - 34s 12ms/step - loss: 0.3280 - accuracy: 0.9677 - val_loss: 0.0682 - val_accuracy: 0.9782\n",
            "Epoch 56/75\n",
            "2765/2765 [==============================] - 34s 12ms/step - loss: 0.3295 - accuracy: 0.9677 - val_loss: 0.0677 - val_accuracy: 0.9782\n",
            "Epoch 57/75\n",
            "2765/2765 [==============================] - 34s 12ms/step - loss: 0.3313 - accuracy: 0.9685 - val_loss: 0.0665 - val_accuracy: 0.9788\n",
            "Epoch 58/75\n",
            "2765/2765 [==============================] - 34s 12ms/step - loss: 0.3358 - accuracy: 0.9674 - val_loss: 0.0689 - val_accuracy: 0.9778\n",
            "Epoch 59/75\n",
            "2765/2765 [==============================] - 34s 12ms/step - loss: 0.3308 - accuracy: 0.9672 - val_loss: 0.0649 - val_accuracy: 0.9796\n",
            "Epoch 60/75\n",
            "2765/2765 [==============================] - 34s 12ms/step - loss: 0.3294 - accuracy: 0.9682 - val_loss: 0.0680 - val_accuracy: 0.9780\n",
            "Epoch 61/75\n",
            "2765/2765 [==============================] - 34s 12ms/step - loss: 0.3239 - accuracy: 0.9682 - val_loss: 0.0643 - val_accuracy: 0.9799\n",
            "Epoch 62/75\n",
            "2765/2765 [==============================] - 34s 12ms/step - loss: 0.3307 - accuracy: 0.9684 - val_loss: 0.0677 - val_accuracy: 0.9783\n",
            "Epoch 63/75\n",
            "2765/2765 [==============================] - 34s 12ms/step - loss: 0.3235 - accuracy: 0.9679 - val_loss: 0.0678 - val_accuracy: 0.9783\n",
            "Epoch 64/75\n",
            "2765/2765 [==============================] - 34s 12ms/step - loss: 0.3276 - accuracy: 0.9686 - val_loss: 0.0692 - val_accuracy: 0.9774\n",
            "Epoch 65/75\n",
            "2765/2765 [==============================] - 34s 12ms/step - loss: 0.3205 - accuracy: 0.9683 - val_loss: 0.0672 - val_accuracy: 0.9784\n",
            "Epoch 66/75\n",
            "2765/2765 [==============================] - 34s 12ms/step - loss: 0.3216 - accuracy: 0.9685 - val_loss: 0.0689 - val_accuracy: 0.9775\n",
            "Epoch 67/75\n",
            "2765/2765 [==============================] - 34s 12ms/step - loss: 0.3207 - accuracy: 0.9688 - val_loss: 0.0680 - val_accuracy: 0.9780\n",
            "Epoch 68/75\n",
            "2765/2765 [==============================] - 34s 12ms/step - loss: 0.3291 - accuracy: 0.9677 - val_loss: 0.0687 - val_accuracy: 0.9776\n",
            "Epoch 69/75\n",
            "2765/2765 [==============================] - 34s 12ms/step - loss: 0.3205 - accuracy: 0.9682 - val_loss: 0.0669 - val_accuracy: 0.9786\n",
            "Epoch 70/75\n",
            "2765/2765 [==============================] - 34s 12ms/step - loss: 0.3172 - accuracy: 0.9683 - val_loss: 0.0664 - val_accuracy: 0.9788\n",
            "Epoch 71/75\n",
            "2765/2765 [==============================] - 34s 12ms/step - loss: 0.3179 - accuracy: 0.9690 - val_loss: 0.0655 - val_accuracy: 0.9791\n",
            "Epoch 72/75\n",
            "2765/2765 [==============================] - 34s 12ms/step - loss: 0.3262 - accuracy: 0.9689 - val_loss: 0.0664 - val_accuracy: 0.9788\n",
            "Epoch 73/75\n",
            "2765/2765 [==============================] - 34s 12ms/step - loss: 0.3152 - accuracy: 0.9688 - val_loss: 0.0666 - val_accuracy: 0.9786\n",
            "Epoch 74/75\n",
            "2765/2765 [==============================] - 34s 12ms/step - loss: 0.3154 - accuracy: 0.9686 - val_loss: 0.0661 - val_accuracy: 0.9790\n",
            "Epoch 75/75\n",
            "2765/2765 [==============================] - 33s 12ms/step - loss: 0.3231 - accuracy: 0.9688 - val_loss: 0.0654 - val_accuracy: 0.9792\n"
          ],
          "name": "stdout"
        }
      ]
    },
    {
      "cell_type": "code",
      "metadata": {
        "id": "0vXGckkBbSEK",
        "colab": {
          "base_uri": "https://localhost:8080/"
        },
        "outputId": "3517cde2-bdbe-4af1-b1a4-0d22b5ed2aa8"
      },
      "source": [
        "model.evaluate(data, labels)"
      ],
      "execution_count": 69,
      "outputs": [
        {
          "output_type": "stream",
          "text": [
            "13827/13827 [==============================] - 45s 3ms/step - loss: 0.0567 - accuracy: 0.9818\n"
          ],
          "name": "stdout"
        },
        {
          "output_type": "execute_result",
          "data": {
            "text/plain": [
              "[0.05668668821454048, 0.981767475605011]"
            ]
          },
          "metadata": {
            "tags": []
          },
          "execution_count": 69
        }
      ]
    },
    {
      "cell_type": "code",
      "metadata": {
        "colab": {
          "base_uri": "https://localhost:8080/"
        },
        "id": "JpwoyvfP5AiE",
        "outputId": "c1e9a32b-20da-408f-c83c-c8829e810834"
      },
      "source": [
        "data[0].shape"
      ],
      "execution_count": null,
      "outputs": [
        {
          "output_type": "execute_result",
          "data": {
            "text/plain": [
              "(32, 32, 1)"
            ]
          },
          "metadata": {
            "tags": []
          },
          "execution_count": 35
        }
      ]
    },
    {
      "cell_type": "code",
      "metadata": {
        "id": "FRN17zHg6VzF"
      },
      "source": [
        "pred1 = model.predict(data)"
      ],
      "execution_count": null,
      "outputs": []
    },
    {
      "cell_type": "code",
      "metadata": {
        "colab": {
          "base_uri": "https://localhost:8080/"
        },
        "id": "lIU8H_RO7E0H",
        "outputId": "ef9efcff-a719-472f-cc7b-c41ba2401a7c"
      },
      "source": [
        "pred1[0]"
      ],
      "execution_count": null,
      "outputs": [
        {
          "output_type": "execute_result",
          "data": {
            "text/plain": [
              "array([2.79099827e-10, 1.53812412e-08, 1.15599633e-07, 7.49499962e-10,\n",
              "       1.61030184e-05, 3.06356091e-12, 2.52768872e-09, 3.06740722e-09,\n",
              "       1.73152059e-09, 1.10965628e-08, 9.99905586e-01, 5.83848481e-09,\n",
              "       7.09031583e-11, 3.83196322e-11, 1.04751312e-10, 7.31059213e-10,\n",
              "       7.17579383e-08, 2.99519106e-05, 9.36551618e-12, 2.13307605e-12,\n",
              "       1.71379938e-07, 1.17584165e-08, 4.43569093e-07, 5.26146815e-09,\n",
              "       5.89765251e-11, 1.40585756e-08, 2.19457220e-07, 4.72987194e-05,\n",
              "       2.34940782e-11, 1.03540043e-09, 1.74020090e-10, 2.78426934e-12,\n",
              "       1.64152567e-10, 2.71629080e-10, 2.73521882e-11, 7.57169993e-10],\n",
              "      dtype=float32)"
            ]
          },
          "metadata": {
            "tags": []
          },
          "execution_count": 60
        }
      ]
    },
    {
      "cell_type": "code",
      "metadata": {
        "id": "9hD_bmfa616G"
      },
      "source": [
        "temp12 = le.inverse_transform(pred1)"
      ],
      "execution_count": 114,
      "outputs": []
    },
    {
      "cell_type": "code",
      "metadata": {
        "id": "OIJBbXTr6YkF"
      },
      "source": [
        "pred2 = model1.predict(data)"
      ],
      "execution_count": null,
      "outputs": []
    },
    {
      "cell_type": "code",
      "metadata": {
        "colab": {
          "base_uri": "https://localhost:8080/"
        },
        "id": "9UE5j8Ce6w9n",
        "outputId": "d94b7d00-65f5-4738-c8e0-524ff4b259f3"
      },
      "source": [
        "temp12"
      ],
      "execution_count": 115,
      "outputs": [
        {
          "output_type": "execute_result",
          "data": {
            "text/plain": [
              "array([10, 10, 10, ...,  4,  5,  6])"
            ]
          },
          "metadata": {
            "tags": []
          },
          "execution_count": 115
        }
      ]
    },
    {
      "cell_type": "code",
      "metadata": {
        "colab": {
          "base_uri": "https://localhost:8080/"
        },
        "id": "RjUC3oMs67wM",
        "outputId": "d1f47853-cbf6-42c6-ae64-c5cbfbcd9940"
      },
      "source": [
        "pred2"
      ],
      "execution_count": 116,
      "outputs": [
        {
          "output_type": "execute_result",
          "data": {
            "text/plain": [
              "array([[0., 0., 0., ..., 0., 0., 0.],\n",
              "       [0., 0., 0., ..., 0., 0., 0.],\n",
              "       [0., 0., 0., ..., 0., 0., 0.],\n",
              "       ...,\n",
              "       [0., 0., 0., ..., 0., 0., 0.],\n",
              "       [0., 0., 0., ..., 0., 0., 0.],\n",
              "       [0., 0., 0., ..., 0., 0., 0.]], dtype=float32)"
            ]
          },
          "metadata": {
            "tags": []
          },
          "execution_count": 116
        }
      ]
    },
    {
      "cell_type": "code",
      "metadata": {
        "id": "Oce0chrJbrPS"
      },
      "source": [
        "save_model(model, '/content/drive/MyDrive/CMPE255_Project/model_jd_98.h5')"
      ],
      "execution_count": null,
      "outputs": []
    },
    {
      "cell_type": "code",
      "metadata": {
        "id": "dk65mXxS5rAR"
      },
      "source": [
        "model1 = load_model('/content/drive/MyDrive/CMPE255_Project/model_jd_96.h5')"
      ],
      "execution_count": null,
      "outputs": []
    },
    {
      "cell_type": "code",
      "metadata": {
        "id": "IJxQeIc6cEr6"
      },
      "source": [
        "labelNames = \"0123456789\"\n",
        "labelNames += \"ABCDEFGHIJKLMNOPQRSTUVWXYZ\"\n",
        "labelNames = [l for l in labelNames]"
      ],
      "execution_count": null,
      "outputs": []
    },
    {
      "cell_type": "code",
      "metadata": {
        "id": "XexoBTnieF0Q"
      },
      "source": [
        "def get_image_predict(image_path):\n",
        "  image = cv2.imread(image_path)\n",
        "  gray = cv2.cvtColor(image, cv2.COLOR_BGR2GRAY)\n",
        "  blurred = cv2.GaussianBlur(gray, (5, 5), 0)\n",
        "  # perform edge detection, find contours in the edge map, and sort the\n",
        "  # resulting contours from left-to-right\n",
        "  edged = cv2.Canny(blurred, 30, 150)\n",
        "  cnts = cv2.findContours(edged.copy(), cv2.RETR_EXTERNAL,\n",
        "    cv2.CHAIN_APPROX_SIMPLE)\n",
        "  cnts = imutils.grab_contours(cnts)\n",
        "  cnts = sort_contours(cnts, method=\"left-to-right\")[0]\n",
        "  # initialize the list of contour bounding boxes and associated\n",
        "  # characters that we'll be OCR'ing\n",
        "  chars = []\n",
        "  # loop over the contours\n",
        "  for c in cnts:\n",
        "    # compute the bounding box of the contour\n",
        "    (x, y, w, h) = cv2.boundingRect(c)\n",
        "    # filter out bounding boxes, ensuring they are neither too small\n",
        "    # nor too large\n",
        "    if (w >= 10 and w <= 150) and (h >= 20 and h <= 250):\n",
        "      # extract the character and threshold it to make the character\n",
        "      # appear as *white* (foreground) on a *black* background, then\n",
        "      # grab the width and height of the thresholded image\n",
        "      roi = gray[y:y + h, x:x + w]\n",
        "      thresh = cv2.threshold(roi, 0, 255,\n",
        "        cv2.THRESH_BINARY_INV | cv2.THRESH_OTSU)[1]\n",
        "      (tH, tW) = thresh.shape\n",
        "      # if the width is greater than the height, resize along the\n",
        "      # width dimension\n",
        "      if tW > tH:\n",
        "        thresh = imutils.resize(thresh, width=32)\n",
        "      # otherwise, resize along the height\n",
        "      else:\n",
        "        thresh = imutils.resize(thresh, height=32)\n",
        "          # re-grab the image dimensions (now that its been resized)\n",
        "      # and then determine how much we need to pad the width and\n",
        "      # height such that our image will be 32x32\n",
        "      (tH, tW) = thresh.shape\n",
        "      dX = int(max(0, 32 - tW) / 2.0)\n",
        "      dY = int(max(0, 32 - tH) / 2.0)\n",
        "      # pad the image and force 32x32 dimensions\n",
        "      padded = cv2.copyMakeBorder(thresh, top=dY, bottom=dY,\n",
        "        left=dX, right=dX, borderType=cv2.BORDER_CONSTANT,\n",
        "        value=(0, 0, 0))\n",
        "      padded = cv2.resize(padded, (32,32))\n",
        "      # prepare the padded image for classification via our\n",
        "      # handwriting OCR model\n",
        "      padded = padded.astype(\"float32\") / 255.0\n",
        "      padded = np.expand_dims(padded, axis=-1)\n",
        "      # update our list of characters that will be OCR'd\n",
        "      chars.append((padded, (x, y, w, h)))\n",
        "    # extract the bounding box locations and padded characters\n",
        "  boxes = [b[1] for b in chars]\n",
        "  chars = np.array([c[0] for c in chars], dtype=\"float32\")\n",
        "  # OCR the characters using our handwriting recognition model\n",
        "  preds = model1.predict(chars)\n",
        "  word = []\n",
        "  for (pred, (x, y, w, h)) in zip(preds, boxes):\n",
        "\t# find the index of the label with the largest corresponding\n",
        "\t# probability, then extract the probability and label\n",
        "    i = np.argmax(pred)\n",
        "    prob = pred[i]\n",
        "    label = labelNames[i]\n",
        "    word.append(label)\n",
        "    # draw the prediction on the image\n",
        "    print(\"[INFO] {} - {:.2f}%\".format(label, prob * 100))\n",
        "    cv2.rectangle(image, (x, y), (x + w, y + h), (0, 255, 0), 2)\n",
        "    cv2.putText(image, label, (x - 10, y - 10),\n",
        "      cv2.FONT_HERSHEY_SIMPLEX, 1.2, (0, 255, 0), 2)\n",
        "  output = ''.join(map(str, word))\n",
        "  return image, output"
      ],
      "execution_count": 133,
      "outputs": []
    },
    {
      "cell_type": "code",
      "metadata": {
        "colab": {
          "base_uri": "https://localhost:8080/"
        },
        "id": "Kf7vKmvbHzUy",
        "outputId": "313b67d5-afd7-408b-dd4a-f85b570d61e8"
      },
      "source": [
        "image, word = get_image_predict('/content/mining test.jpg')"
      ],
      "execution_count": 139,
      "outputs": [
        {
          "output_type": "stream",
          "text": [
            "[INFO] Y - 83.72%\n",
            "[INFO] 1 - 86.11%\n",
            "[INFO] N - 100.00%\n",
            "[INFO] L - 82.79%\n",
            "[INFO] T - 90.59%\n",
            "[INFO] N - 100.00%\n",
            "[INFO] G - 99.15%\n"
          ],
          "name": "stdout"
        }
      ]
    },
    {
      "cell_type": "code",
      "metadata": {
        "colab": {
          "base_uri": "https://localhost:8080/",
          "height": 188
        },
        "id": "qbYeo9KVdAFt",
        "outputId": "c5d4389b-2c8c-47d1-cef9-100a92c7ba70"
      },
      "source": [
        "print(word)\n",
        "cv2_imshow(image)"
      ],
      "execution_count": 135,
      "outputs": [
        {
          "output_type": "stream",
          "text": [
            "4CLLD\n"
          ],
          "name": "stdout"
        },
        {
          "output_type": "display_data",
          "data": {
            "image/png": "[encoded data removed]",
            "text/plain": [
              "<PIL.Image.Image image mode=RGB size=348x154 at 0x7F1873738890>"
            ]
          },
          "metadata": {
            "tags": []
          }
        }
      ]
    },
    {
      "cell_type": "code",
      "metadata": {
        "id": "T7WuvqR3eJWT"
      },
      "source": [
        ""
      ],
      "execution_count": null,
      "outputs": []
    },
    {
      "cell_type": "code",
      "metadata": {
        "id": "COxEQM6GFfD1"
      },
      "source": [
        ""
      ],
      "execution_count": null,
      "outputs": []
    },
    {
      "cell_type": "code",
      "metadata": {
        "id": "YLKMFUUC9c4A"
      },
      "source": [
        ""
      ],
      "execution_count": null,
      "outputs": []
    }
  ]
}